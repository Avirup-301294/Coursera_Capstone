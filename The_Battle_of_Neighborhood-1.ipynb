{
    "cells": [
        {
            "cell_type": "markdown",
            "metadata": {},
            "source": "<h1 align=center><font size = 5>The Battle of Neighbourhood</font></h1>"
        },
        {
            "cell_type": "markdown",
            "metadata": {},
            "source": "### Problem Statement"
        },
        {
            "cell_type": "markdown",
            "metadata": {},
            "source": "Person X is trying to find a place in the USA to start his own restaurant business. He searches for a location which could help him earn more profit. He discusses his plan with his friend, 'Person Y' who is an expert in Data Science domain and has a few years of experience of with real world data. Understanding the problem in the plan, Person Y promises him a solution within 2-3 days. "
        },
        {
            "cell_type": "markdown",
            "metadata": {},
            "source": "### Background Description"
        },
        {
            "cell_type": "markdown",
            "metadata": {},
            "source": "Within a few days, Person Y reaches out to Person X with a method. He has a dataset which is not properly cleaned, may have some missing values but initially consists of 10000 restaurants with their geo location and 9 columns such as,"
        },
        {
            "cell_type": "markdown",
            "metadata": {},
            "source": "1. Address\n2. Categories\n3. Primary Categories\n4. City\n5. Latitude\n6. Longitude\n7. Postal Code\n8. Province\n9. Name of the Restaurants"
        },
        {
            "cell_type": "markdown",
            "metadata": {},
            "source": "#### Feature will add Like"
        },
        {
            "cell_type": "markdown",
            "metadata": {},
            "source": "1. Price Range\n2. votes\n3. Review Text\n4. Aggregate rating\n5. Rating color"
        },
        {
            "cell_type": "markdown",
            "metadata": {},
            "source": "### How the dataset help in recommend"
        },
        {
            "cell_type": "markdown",
            "metadata": {},
            "source": "The data set consists of food categories,rating, reviews and other attributes in which Person Y will perform clustering algorithm and separate out the cluster by regions where people votes is more than the mean votes of all other regions.\n\nFourSquare location data will be used to identify the odd location of restaurants where user rating is very poor."
        },
        {
            "cell_type": "code",
            "execution_count": null,
            "metadata": {},
            "outputs": [],
            "source": ""
        }
    ],
    "metadata": {
        "kernelspec": {
            "display_name": "Python 3.6",
            "language": "python",
            "name": "python3"
        },
        "language_info": {
            "codemirror_mode": {
                "name": "ipython",
                "version": 3
            },
            "file_extension": ".py",
            "mimetype": "text/x-python",
            "name": "python",
            "nbconvert_exporter": "python",
            "pygments_lexer": "ipython3",
            "version": "3.6.9"
        }
    },
    "nbformat": 4,
    "nbformat_minor": 2
}