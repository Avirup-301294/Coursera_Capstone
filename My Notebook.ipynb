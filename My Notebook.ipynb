{
    "cells": [
        {
            "cell_type": "markdown",
            "metadata": {
                "collapsed": true
            },
            "source": "# My Jupyter Notebook on IBM Data Science Experience"
        },
        {
            "cell_type": "markdown",
            "metadata": {},
            "source": "**AVIRUP MONDAL**  \nI am currently not working"
        },
        {
            "cell_type": "markdown",
            "metadata": {},
            "source": "*I am interested in learning data science because it now everywhere and it is very demanding nowadays*"
        },
        {
            "cell_type": "markdown",
            "metadata": {},
            "source": "### Example of List Comprehension"
        },
        {
            "cell_type": "code",
            "execution_count": 12,
            "metadata": {},
            "outputs": [
                {
                    "data": {
                        "text/plain": "[0, 2, 4, 6, 8, 10]"
                    },
                    "execution_count": 12,
                    "metadata": {},
                    "output_type": "execute_result"
                }
            ],
            "source": "isEven = [x for x in range(0,11) if x % 2 == 0]\nisEven"
        },
        {
            "cell_type": "markdown",
            "metadata": {},
            "source": "1.orange  \n2.Mango  \n3.Pomegranate  \n\n- Red  \n- Blue  \n- Green  \n\n\n\n> Blockquotes are very handy in email to emulate reply text.\n> This line is part of the same quote.\n\n![alt text](https://hips.hearstapps.com/hmg-prod.s3.amazonaws.com/images/golden-retriever-royalty-free-image-506756303-1560962726.jpg?crop=0.672xw:1.00xh;0.166xw,0&resize=240:*)"
        },
        {
            "cell_type": "code",
            "execution_count": null,
            "metadata": {},
            "outputs": [],
            "source": ""
        }
    ],
    "metadata": {
        "kernelspec": {
            "display_name": "Python 3.6",
            "language": "python",
            "name": "python3"
        },
        "language_info": {
            "codemirror_mode": {
                "name": "ipython",
                "version": 3
            },
            "file_extension": ".py",
            "mimetype": "text/x-python",
            "name": "python",
            "nbconvert_exporter": "python",
            "pygments_lexer": "ipython3",
            "version": "3.6.9"
        }
    },
    "nbformat": 4,
    "nbformat_minor": 1
}