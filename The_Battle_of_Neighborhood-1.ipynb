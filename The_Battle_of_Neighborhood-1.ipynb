{
    "cells": [
        {
            "cell_type": "markdown",
            "metadata": {},
            "source": "# The Battle of Neighbourhood"
        },
        {
            "cell_type": "markdown",
            "metadata": {},
            "source": "### Problem Statement"
        },
        {
            "cell_type": "markdown",
            "metadata": {},
            "source": "Person X is trying to find a place in the USA to start his own restaurant business. He searches for a location which could help him earn more profit. He discusses his plan with his friend, 'Person Y' who is an expert in Data Science domain and has a few years of experience of with real world data. Understanding the problem in the plan, Person Y promises him a solution within 2-3 days. "
        },
        {
            "cell_type": "markdown",
            "metadata": {},
            "source": "### Background Description"
        },
        {
            "cell_type": "markdown",
            "metadata": {},
            "source": "Within a few days, Person Y reaches out to Person X with a method. He has a dataset which is not properly cleaned, may have some missing values but initially consists of 10000 restaurants with their geo location and 9 columns such as,"
        },
        {
            "cell_type": "markdown",
            "metadata": {},
            "source": "1. Address\n2. Categories\n3. Primary Categories\n4. City\n5. Latitude\n6. Longitude\n7. Postal Code\n8. Province\n9. Name of the Restaurants"
        },
        {
            "cell_type": "markdown",
            "metadata": {},
            "source": "#### Feature will add Like"
        },
        {
            "cell_type": "markdown",
            "metadata": {},
            "source": "1. Price Range\n2. votes\n3. Review Text\n4. Aggregate rating\n5. Rating color"
        },
        {
            "cell_type": "markdown",
            "metadata": {},
            "source": "### How the dataset help in recommend"
        },
        {
            "cell_type": "markdown",
            "metadata": {},
            "source": "Our goal here is to predict the location suited for the new restaurant. A list of restaurants with the highest predicted ratings can then be recommended to each consumer. The restaurant ratings are numerical. Using classification techniques is also reasonable since the possible ratings are three discrete integers in this dataset. However, a three-class classification will likely predict too many ties and therefore prevent us from generating a top-n list of recommendations for a consumer. Rather than predicting the exact values of ratings that a consumer would give to certain restaurants, what is more important is predicting the ranks of these restaurants for the consumer. Thus, I will attempt to predict continuous values for the consumer ratings."
        },
        {
            "cell_type": "code",
            "execution_count": null,
            "metadata": {},
            "outputs": [],
            "source": ""
        }
    ],
    "metadata": {
        "kernelspec": {
            "display_name": "Python 3.6",
            "language": "python",
            "name": "python3"
        },
        "language_info": {
            "codemirror_mode": {
                "name": "ipython",
                "version": 3
            },
            "file_extension": ".py",
            "mimetype": "text/x-python",
            "name": "python",
            "nbconvert_exporter": "python",
            "pygments_lexer": "ipython3",
            "version": "3.6.9"
        }
    },
    "nbformat": 4,
    "nbformat_minor": 2
}